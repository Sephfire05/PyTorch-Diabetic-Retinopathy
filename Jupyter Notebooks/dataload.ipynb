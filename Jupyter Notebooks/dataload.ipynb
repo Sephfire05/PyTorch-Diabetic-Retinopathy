{
 "cells": [
  {
   "cell_type": "code",
   "execution_count": 10,
   "metadata": {},
   "outputs": [],
   "source": [
    "# import libraries\n",
    "import torch\n",
    "import torchvision\n",
    "import torchvision.transforms as transform\n",
    "from torch.utils.data.dataset import Dataset\n",
    "import pandas as pd\n",
    "import os\n",
    "from PIL import Image\n",
    "from sklearn.preprocessing import MultiLabelBinarizer\n"
   ]
  },
  {
   "cell_type": "code",
   "execution_count": 11,
   "metadata": {},
   "outputs": [],
   "source": [
    "class DiabRetinopathy(Dataset):\n",
    "    \"\"\"Dataset wrapping images and target labels\n",
    "    \n",
    "    Arguments:\n",
    "        A CSV file patch\n",
    "        Path to image folder\n",
    "        Extension of images\n",
    "    \"\"\"\n",
    "    \n",
    "    def __init__(self, csv_path, img_path, img_ext, transform=transform):\n",
    "        \n",
    "        self.df = pd.read_csv(csv_path)\n",
    "        assert self.df['image_name'].apply(lambda x: os.path.isfile(img_path + x + img_ext)).all(), \\\n",
    "\"Some images references in the CSV file were not found\"\n",
    "\n",
    "        # Ordering classification\n",
    "        self.mlb = MultiLabelBinarizer(\n",
    "                classes = ['1', '2', '3', '4']\n",
    "                                      )\n",
    "        self.img_path = img_path\n",
    "        self.img_ext = img_ext\n",
    "        self.transform = transform\n",
    "    \n",
    "        self.x = self.df['image_name']\n",
    "        self.y = self.mlb.fit_transform(self.df['label'])\n",
    "\n",
    "    def X(self):\n",
    "        return self.x\n",
    "\n",
    "    def __getitem__(self, index):\n",
    "        img = Image.open(self.img_path + self.x[index] + self.img_ext)\n",
    "        img = img.convert('RGB')\n",
    "        if self.transform is not None:\n",
    "            img = self.transform(img)\n",
    "        \n",
    "        label = from_numpy(self.y[index])\n",
    "        return img, label\n",
    "\n",
    "    def __len__(self):\n",
    "        return len(self.df.index)\n",
    "\n",
    "    def getLabelEncoder(self):\n",
    "        return self.mlb\n",
    "\n",
    "    def getDF(self):\n",
    "        return self.df"
   ]
  },
  {
   "cell_type": "code",
   "execution_count": 4,
   "metadata": {},
   "outputs": [],
   "source": [
    "\n",
    "\n"
   ]
  },
  {
   "cell_type": "code",
   "execution_count": null,
   "metadata": {},
   "outputs": [],
   "source": []
  }
 ],
 "metadata": {
  "kernelspec": {
   "display_name": "Python 3",
   "language": "python",
   "name": "python3"
  },
  "language_info": {
   "codemirror_mode": {
    "name": "ipython",
    "version": 3
   },
   "file_extension": ".py",
   "mimetype": "text/x-python",
   "name": "python",
   "nbconvert_exporter": "python",
   "pygments_lexer": "ipython3",
   "version": "3.6.5"
  }
 },
 "nbformat": 4,
 "nbformat_minor": 2
}
