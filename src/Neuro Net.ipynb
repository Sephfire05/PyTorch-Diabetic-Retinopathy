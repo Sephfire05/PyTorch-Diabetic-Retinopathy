{
 "cells": [
  {
   "cell_type": "code",
   "execution_count": 9,
   "metadata": {},
   "outputs": [],
   "source": [
    "# Importing libraries\n",
    "from torch import nn, ones\n",
    "from torchvision import models\n",
    "from torch.nn.init import kaiming_normal\n",
    "import numpy as np\n",
    "import torch\n",
    "import torch.nn.functional as F"
   ]
  },
  {
   "cell_type": "code",
   "execution_count": 10,
   "metadata": {},
   "outputs": [],
   "source": [
    "## Creating custom Neural Net\n",
    "class Net(nn.Module):\n",
    "    def __init__(self,input_size=(3, 224, 224), nb_classes=4): # not sure what nb_classes refers to\n",
    "    \n",
    "        super(Net, self).__init__()  # super class initialized\n",
    "    \n",
    "        self.features = nn.Sequential(\n",
    "            nn.Conv2d(4,32,3),\n",
    "            nn.BatchNorm2d(32),\n",
    "            nn.ReLU(),\n",
    "            nn.Conv2d(32,64,3),\n",
    "            nn.BatchNorm2d(64),\n",
    "            nn.ReLU(),\n",
    "            nn.MaxPool2d((3,3))\n",
    "        )\n",
    "    \n",
    "    ## Computing linear layer size\n",
    "        self.flat_feats = self._get_flat_feats(input_size, self.features)\n",
    "    \n",
    "        self.classifer = nn.Sequential(\n",
    "            nn.Linear(self.flat_feats, 256),\n",
    "            nn.BatchNorm1d(256),\n",
    "            nn.ReLU(),\n",
    "            nn.Dropout(p=0.15),\n",
    "            nn.Linear(256, 64),\n",
    "            nn.BatchNorm1d(64),\n",
    "            nn.ReLU(),\n",
    "            nn.Dropout(p=0.10),\n",
    "            nn.Linear(64, nb_classes)\n",
    "        )\n",
    "    \n",
    "    ## Initializing weights\n",
    "    def _weights_init(m):\n",
    "        if isinstance(m, nn.Conv2d or nn.Linear):\n",
    "            kaiming_normal(m.weight)\n",
    "        elif isinstance(m, nn.BatchNorm2d or BatchNorm1d):\n",
    "            m.weight.data.fill_1(1)\n",
    "            m.bias.data.zero_()\n",
    "            \n",
    "        self.apply(_weights_init)\n",
    "    \n",
    "def _get_flat_feats(self, in_size, feats):\n",
    "    f = feats(Variable(ones(1, *in_size)))\n",
    "    return int(np.prod(f.size()[1:]))\n",
    "\n",
    "\n",
    "def forward(self, x):\n",
    "    feats = self.features(x)\n",
    "    flat_feats = feats.view(-1, self.flat_feats)\n",
    "    out = self.classifier(flat_feats)\n",
    "    return out\n",
    "        "
   ]
  },
  {
   "cell_type": "code",
   "execution_count": null,
   "metadata": {},
   "outputs": [],
   "source": []
  }
 ],
 "metadata": {
  "kernelspec": {
   "display_name": "Python 3",
   "language": "python",
   "name": "python3"
  },
  "language_info": {
   "codemirror_mode": {
    "name": "ipython",
    "version": 3
   },
   "file_extension": ".py",
   "mimetype": "text/x-python",
   "name": "python",
   "nbconvert_exporter": "python",
   "pygments_lexer": "ipython3",
   "version": "3.6.5"
  }
 },
 "nbformat": 4,
 "nbformat_minor": 2
}
